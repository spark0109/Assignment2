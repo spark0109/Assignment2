{
 "cells": [
  {
   "cell_type": "code",
   "execution_count": 1,
   "metadata": {
    "id": "Q1MwNryFaknb"
   },
   "outputs": [],
   "source": [
    "from sklearn.datasets import load_diabetes\n",
    "import matplotlib.pyplot as plt\n",
    "import numpy as np\n",
    "import pandas as pd\n",
    "from sklearn.model_selection import train_test_split\n",
    "\n",
    "diabetes=load_diabetes()"
   ]
  },
  {
   "cell_type": "markdown",
   "metadata": {},
   "source": [
    "diabetes의 data를 df_X에, target을 df_y에 저장해주세요."
   ]
  },
  {
   "cell_type": "code",
   "execution_count": 2,
   "metadata": {},
   "outputs": [],
   "source": [
    "df_X=diabetes.data\n",
    "df_y=diabetes.target"
   ]
  },
  {
   "cell_type": "code",
   "execution_count": 3,
   "metadata": {},
   "outputs": [],
   "source": [
    "ddf = pd.DataFrame(data  = df_X, columns = diabetes.feature_names)"
   ]
  },
  {
   "cell_type": "markdown",
   "metadata": {},
   "source": [
    "df_X에 있는 값들을 numpy array로 변환해서 저장해주세요.\n",
    "df_y에 있는 값들을 numpy array로 변환해서 저장해주세요."
   ]
  },
  {
   "cell_type": "code",
   "execution_count": 4,
   "metadata": {},
   "outputs": [
    {
     "name": "stdout",
     "output_type": "stream",
     "text": [
      "(442, 10)\n"
     ]
    }
   ],
   "source": [
    "print(df_X.shape)"
   ]
  },
  {
   "cell_type": "code",
   "execution_count": 5,
   "metadata": {},
   "outputs": [
    {
     "name": "stdout",
     "output_type": "stream",
     "text": [
      "(442,)\n"
     ]
    }
   ],
   "source": [
    "print(df_y.shape)"
   ]
  },
  {
   "cell_type": "markdown",
   "metadata": {},
   "source": [
    "입력 데이터 개수에 맞는 가중치 W와 b를 준비해주세요.\n",
    "모델 함수를 구현해주세요."
   ]
  },
  {
   "cell_type": "code",
   "execution_count": 6,
   "metadata": {},
   "outputs": [],
   "source": [
    "X = np.array(df_X)\n",
    "y = np.array(df_y)\n",
    "W = np.random.rand(10)\n",
    "b = np.random.rand()"
   ]
  },
  {
   "cell_type": "code",
   "execution_count": 7,
   "metadata": {},
   "outputs": [],
   "source": [
    "def model(X, W, b):\n",
    "    predictions = 0\n",
    "    for i in range(10):\n",
    "        predictions += X[:, i] * W[i]\n",
    "    predictions += b\n",
    "    return predictions"
   ]
  },
  {
   "cell_type": "markdown",
   "metadata": {},
   "source": [
    "손실함수를 MSE 함수로 정의해주세요."
   ]
  },
  {
   "cell_type": "code",
   "execution_count": 8,
   "metadata": {},
   "outputs": [],
   "source": [
    "def MSE(a, b):\n",
    "    mse = ((a - b) ** 2).mean()  # 두 값의 차이의 제곱의 평균\n",
    "    return mse"
   ]
  },
  {
   "cell_type": "code",
   "execution_count": 9,
   "metadata": {},
   "outputs": [],
   "source": [
    "def loss(X, W, b, y):\n",
    "    predictions = model(X, W, b)\n",
    "    L = MSE(predictions, y)\n",
    "    return L"
   ]
  },
  {
   "cell_type": "markdown",
   "metadata": {},
   "source": [
    "기울기를 계산하는 gradient 함수를 구현해주세요."
   ]
  },
  {
   "cell_type": "code",
   "execution_count": 10,
   "metadata": {},
   "outputs": [],
   "source": [
    "def gradient(X, W, b, y):\n",
    "    N = len(W)\n",
    "    \n",
    "    y_pred = model(X, W, b)\n",
    "\n",
    "    dW = 1/N * 2 * X.T.dot(y_pred - y)\n",
    "\n",
    "    db = 2 * (y_pred - y).mean()\n",
    "    return dW, db"
   ]
  },
  {
   "cell_type": "markdown",
   "metadata": {},
   "source": [
    "학습률, learning rate 를 설정해주세요\n",
    "만약 학습이 잘 되지 않는다면 learning rate 값을 한번 여러 가지로 설정하며 실험해 보세요."
   ]
  },
  {
   "cell_type": "code",
   "execution_count": 11,
   "metadata": {},
   "outputs": [],
   "source": [
    "LEARNING_RATE = 0.0001"
   ]
  },
  {
   "cell_type": "code",
   "execution_count": 12,
   "metadata": {},
   "outputs": [
    {
     "name": "stdout",
     "output_type": "stream",
     "text": [
      "Iteration 10 : Loss 28864.5856\n",
      "Iteration 20 : Loss 28769.5244\n",
      "Iteration 30 : Loss 28674.8338\n",
      "Iteration 40 : Loss 28580.5126\n",
      "Iteration 50 : Loss 28486.5591\n",
      "Iteration 60 : Loss 28392.9721\n",
      "Iteration 70 : Loss 28299.7499\n",
      "Iteration 80 : Loss 28206.8912\n",
      "Iteration 90 : Loss 28114.3945\n",
      "Iteration 100 : Loss 28022.2584\n",
      "Iteration 110 : Loss 27930.4814\n",
      "Iteration 120 : Loss 27839.0622\n",
      "Iteration 130 : Loss 27747.9993\n",
      "Iteration 140 : Loss 27657.2913\n",
      "Iteration 150 : Loss 27566.9369\n",
      "Iteration 160 : Loss 27476.9345\n",
      "Iteration 170 : Loss 27387.2828\n",
      "Iteration 180 : Loss 27297.9805\n",
      "Iteration 190 : Loss 27209.0261\n",
      "Iteration 200 : Loss 27120.4183\n",
      "Iteration 210 : Loss 27032.1557\n",
      "Iteration 220 : Loss 26944.2368\n",
      "Iteration 230 : Loss 26856.6605\n",
      "Iteration 240 : Loss 26769.4253\n",
      "Iteration 250 : Loss 26682.5298\n",
      "Iteration 260 : Loss 26595.9727\n",
      "Iteration 270 : Loss 26509.7527\n",
      "Iteration 280 : Loss 26423.8685\n",
      "Iteration 290 : Loss 26338.3186\n",
      "Iteration 300 : Loss 26253.1019\n",
      "Iteration 310 : Loss 26168.2169\n",
      "Iteration 320 : Loss 26083.6623\n",
      "Iteration 330 : Loss 25999.4370\n",
      "Iteration 340 : Loss 25915.5394\n",
      "Iteration 350 : Loss 25831.9684\n",
      "Iteration 360 : Loss 25748.7227\n",
      "Iteration 370 : Loss 25665.8009\n",
      "Iteration 380 : Loss 25583.2018\n",
      "Iteration 390 : Loss 25500.9242\n",
      "Iteration 400 : Loss 25418.9666\n",
      "Iteration 410 : Loss 25337.3280\n",
      "Iteration 420 : Loss 25256.0069\n",
      "Iteration 430 : Loss 25175.0022\n",
      "Iteration 440 : Loss 25094.3126\n",
      "Iteration 450 : Loss 25013.9368\n",
      "Iteration 460 : Loss 24933.8737\n",
      "Iteration 470 : Loss 24854.1219\n",
      "Iteration 480 : Loss 24774.6803\n",
      "Iteration 490 : Loss 24695.5476\n",
      "Iteration 500 : Loss 24616.7226\n",
      "Iteration 510 : Loss 24538.2041\n",
      "Iteration 520 : Loss 24459.9908\n",
      "Iteration 530 : Loss 24382.0816\n",
      "Iteration 540 : Loss 24304.4752\n",
      "Iteration 550 : Loss 24227.1705\n",
      "Iteration 560 : Loss 24150.1663\n",
      "Iteration 570 : Loss 24073.4613\n",
      "Iteration 580 : Loss 23997.0544\n",
      "Iteration 590 : Loss 23920.9445\n",
      "Iteration 600 : Loss 23845.1302\n",
      "Iteration 610 : Loss 23769.6106\n",
      "Iteration 620 : Loss 23694.3843\n",
      "Iteration 630 : Loss 23619.4503\n",
      "Iteration 640 : Loss 23544.8074\n",
      "Iteration 650 : Loss 23470.4544\n",
      "Iteration 660 : Loss 23396.3901\n",
      "Iteration 670 : Loss 23322.6136\n",
      "Iteration 680 : Loss 23249.1235\n",
      "Iteration 690 : Loss 23175.9188\n",
      "Iteration 700 : Loss 23102.9984\n",
      "Iteration 710 : Loss 23030.3611\n",
      "Iteration 720 : Loss 22958.0058\n",
      "Iteration 730 : Loss 22885.9314\n",
      "Iteration 740 : Loss 22814.1367\n",
      "Iteration 750 : Loss 22742.6207\n",
      "Iteration 760 : Loss 22671.3823\n",
      "Iteration 770 : Loss 22600.4204\n",
      "Iteration 780 : Loss 22529.7338\n",
      "Iteration 790 : Loss 22459.3216\n",
      "Iteration 800 : Loss 22389.1825\n",
      "Iteration 810 : Loss 22319.3156\n",
      "Iteration 820 : Loss 22249.7197\n",
      "Iteration 830 : Loss 22180.3938\n",
      "Iteration 840 : Loss 22111.3368\n",
      "Iteration 850 : Loss 22042.5477\n",
      "Iteration 860 : Loss 21974.0253\n",
      "Iteration 870 : Loss 21905.7687\n",
      "Iteration 880 : Loss 21837.7768\n",
      "Iteration 890 : Loss 21770.0485\n",
      "Iteration 900 : Loss 21702.5828\n",
      "Iteration 910 : Loss 21635.3786\n",
      "Iteration 920 : Loss 21568.4350\n",
      "Iteration 930 : Loss 21501.7509\n",
      "Iteration 940 : Loss 21435.3252\n",
      "Iteration 950 : Loss 21369.1570\n",
      "Iteration 960 : Loss 21303.2452\n",
      "Iteration 970 : Loss 21237.5889\n",
      "Iteration 980 : Loss 21172.1869\n",
      "Iteration 990 : Loss 21107.0384\n",
      "Iteration 1000 : Loss 21042.1422\n"
     ]
    }
   ],
   "source": [
    "losses = []\n",
    "\n",
    "for i in range(1, 1001):\n",
    "    dW, db = gradient(X, W, b, y)\n",
    "    W -= LEARNING_RATE * dW\n",
    "    b -= LEARNING_RATE * db\n",
    "    L = loss(X, W, b, y)\n",
    "    losses.append(L)\n",
    "    if i % 10 == 0:\n",
    "        print('Iteration %d : Loss %0.4f' % (i, L))"
   ]
  },
  {
   "cell_type": "markdown",
   "metadata": {},
   "source": [
    "정의된 손실함수와 기울기 함수로 모델을 학습해주세요.\n",
    "loss값이 충분히 떨어질 때까지 학습을 진행해주세요.\n",
    "입력하는 데이터인 X에 들어가는 특성 컬럼들을 몇 개 빼도 괜찮습니다. 다양한 데이터로 실험해 보세요."
   ]
  },
  {
   "cell_type": "code",
   "execution_count": 13,
   "metadata": {},
   "outputs": [],
   "source": [
    "X_train, X_test, y_train, y_test = train_test_split(df_X, df_y, test_size = 0.3, random_state =23)"
   ]
  },
  {
   "cell_type": "code",
   "execution_count": 14,
   "metadata": {},
   "outputs": [],
   "source": [
    "def regression_model(X,W,b) :\n",
    "    y = np.dot(X,W) + b\n",
    "    return y"
   ]
  },
  {
   "cell_type": "code",
   "execution_count": 15,
   "metadata": {},
   "outputs": [
    {
     "data": {
      "text/plain": [
       "22358.947348492788"
      ]
     },
     "execution_count": 15,
     "metadata": {},
     "output_type": "execute_result"
    }
   ],
   "source": [
    "test_prediction = regression_model(X_test,W,b)\n",
    "final_loss = MSE(test_prediction, y_test)\n",
    "final_loss"
   ]
  },
  {
   "cell_type": "markdown",
   "metadata": {},
   "source": [
    "x축에는 X 데이터의 첫 번째 컬럼을, y축에는 정답인 target 데이터를 넣어서 모델이 예측한 데이터를 시각화해 주세요."
   ]
  },
  {
   "cell_type": "code",
   "execution_count": 16,
   "metadata": {},
   "outputs": [
    {
     "data": {
      "image/png": "[encoded data removed]",
      "text/plain": [
       "<Figure size 432x288 with 1 Axes>"
      ]
     },
     "metadata": {
      "needs_background": "light"
     },
     "output_type": "display_data"
    }
   ],
   "source": [
    "fig = plt.figure()\n",
    "ax = fig.add_subplot(1,1,1)\n",
    "plt.scatter(df_X[:,3], df_y, label= 'labeled')\n",
    "plt.scatter(df_X[:,3], regression_model(df_X,W,b), label = 'predicted')\n",
    "plt.ylabel('feature value')\n",
    "plt.xlabel('target value')\n",
    "plt.legend()\n",
    "\n",
    "plt.show()"
   ]
  },
  {
   "cell_type": "code",
   "execution_count": 17,
   "metadata": {},
   "outputs": [
    {
     "data": {
      "text/plain": [
       "'reference: https://yhyun225.tistory.com/11 \\n https://github.com/seuyon0101/aiffel/blob/master/%5BE-02%5Dregression.ipynb'"
      ]
     },
     "execution_count": 17,
     "metadata": {},
     "output_type": "execute_result"
    }
   ],
   "source": [
    "'''reference: https://yhyun225.tistory.com/11 \\n https://github.com/seuyon0101/aiffel/blob/master/%5BE-02%5Dregression.ipynb'''"
   ]
  },
  {
   "cell_type": "markdown",
   "metadata": {},
   "source": [
    "pj 1까지 밖에 못하긴 했지만 많은 레퍼런스를 보며 아직 코드를 보며 성장하는 중입니다. 어렵다는 말보다는 아직 데이터를 처리하는 법을 모르고 데이터를 어떻게 다뤄야 할지 모르다 보니 제가 뽑아낸 결과 역시 어떻게 평가해야할 지 모르겠네요... loss 값을 보니 3000이하라는 것에 성공적이라고 reference의 저자가 말해주네요."
   ]
  }
 ],
 "metadata": {
  "colab": {
   "provenance": []
  },
  "kernelspec": {
   "display_name": "Python 3 (ipykernel)",
   "language": "python",
   "name": "python3"
  },
  "language_info": {
   "codemirror_mode": {
    "name": "ipython",
    "version": 3
   },
   "file_extension": ".py",
   "mimetype": "text/x-python",
   "name": "python",
   "nbconvert_exporter": "python",
   "pygments_lexer": "ipython3",
   "version": "3.9.7"
  }
 },
 "nbformat": 4,
 "nbformat_minor": 1
}
